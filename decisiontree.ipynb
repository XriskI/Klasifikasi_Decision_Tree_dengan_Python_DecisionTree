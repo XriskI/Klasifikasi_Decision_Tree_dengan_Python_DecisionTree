#Import library numpy, pandas dan scikit-learn
import numpy as np
import pandas as pd
from sklearn import tree
     

#Membaca Dataset dari File ke Pandas dataFrame
irisDataset = pd.read_csv('Dataset Iris.csv', delimiter=';', header=0)
     

irisDataset.head()
     
Id	SepalLengthCm	SepalWidthCm	PetalLengthCm	PetalWidthCm	Species
0	1	7.00	3.02	4.07	1.04	Iris-versicolor
1	2	6.04	3.02	4.05	1.05	Iris-versicolor
2	3	6.09	3.01	4.09	1.05	Iris-versicolor
3	4	5.05	2.03	4.00	1.03	Iris-versicolor
4	5	6.05	2.08	4.06	1.05	Iris-versicolor

#Mengubah kelas (kolom "Species") dari String ke Unique-Integer
irisDataset["Species"] = pd.factorize(irisDataset.Species)[0]
     

irisDataset.head()
     
Id	SepalLengthCm	SepalWidthCm	PetalLengthCm	PetalWidthCm	Species
0	1	7.00	3.02	4.07	1.04	0
1	2	6.04	3.02	4.05	1.05	0
2	3	6.09	3.01	4.09	1.05	0
3	4	5.05	2.03	4.00	1.03	0
4	5	6.05	2.08	4.06	1.05	0

print(irisDataset)
     
     Id  SepalLengthCm  SepalWidthCm  PetalLengthCm  PetalWidthCm  Species
0     1           7.00          3.02           4.07          1.04        0
1     2           6.04          3.02           4.05          1.05        0
2     3           6.09          3.01           4.09          1.05        0
3     4           5.05          2.03           4.00          1.03        0
4     5           6.05          2.08           4.06          1.05        0
..  ...            ...           ...            ...           ...      ...
95   96           6.07          3.00           5.02          2.03        1
96   97           6.03          2.05           5.00          1.09        1
97   98           6.05          3.00           5.02          2.00        1
98   99           6.02          3.04           5.04          2.03        1
99  100           5.09          3.00           5.01          1.08        1

[100 rows x 6 columns]

#Menghapus kolom "Id"
irisDataset = irisDataset.drop(labels="Id", axis=1)
     

print(irisDataset)
     
    SepalLengthCm  SepalWidthCm  PetalLengthCm  PetalWidthCm  Species
0            7.00          3.02           4.07          1.04        0
1            6.04          3.02           4.05          1.05        0
2            6.09          3.01           4.09          1.05        0
3            5.05          2.03           4.00          1.03        0
4            6.05          2.08           4.06          1.05        0
..            ...           ...            ...           ...      ...
95           6.07          3.00           5.02          2.03        1
96           6.03          2.05           5.00          1.09        1
97           6.05          3.00           5.02          2.00        1
98           6.02          3.04           5.04          2.03        1
99           5.09          3.00           5.01          1.08        1

[100 rows x 5 columns]

#Mengubah dataFrame ke array Numpy
irisDataset = irisDataset.to_numpy()
     

print(irisDataset)
     
[[7.   3.02 4.07 1.04 0.  ]
 [6.04 3.02 4.05 1.05 0.  ]
 [6.09 3.01 4.09 1.05 0.  ]
 [5.05 2.03 4.   1.03 0.  ]
 [6.05 2.08 4.06 1.05 0.  ]
 [5.07 2.08 4.05 1.03 0.  ]
 [6.03 3.03 4.07 1.06 0.  ]
 [4.09 2.04 3.03 1.   0.  ]
 [6.06 2.09 4.06 1.03 0.  ]
 [5.02 2.07 3.09 1.04 0.  ]
 [5.   2.   3.05 1.   0.  ]
 [5.09 3.   4.02 1.05 0.  ]
 [6.   2.02 4.   1.   0.  ]
 [6.01 2.09 4.07 1.04 0.  ]
 [5.06 2.09 3.06 1.03 0.  ]
 [6.07 3.01 4.04 1.04 0.  ]
 [5.06 3.   4.05 1.05 0.  ]
 [5.08 2.07 4.01 1.   0.  ]
 [6.02 2.02 4.05 1.05 0.  ]
 [5.06 2.05 3.09 1.01 0.  ]
 [5.09 3.02 4.08 1.08 0.  ]
 [6.01 2.08 4.   1.03 0.  ]
 [6.03 2.05 4.09 1.05 0.  ]
 [6.01 2.08 4.07 1.02 0.  ]
 [6.04 2.09 4.03 1.03 0.  ]
 [6.06 3.   4.04 1.04 0.  ]
 [6.08 2.08 4.08 1.04 0.  ]
 [6.07 3.   5.   1.07 0.  ]
 [6.   2.09 4.05 1.05 0.  ]
 [5.07 2.06 3.05 1.   0.  ]
 [5.05 2.04 3.08 1.01 0.  ]
 [5.05 2.04 3.07 1.   0.  ]
 [5.08 2.07 3.09 1.02 0.  ]
 [6.   2.07 5.01 1.06 0.  ]
 [5.04 3.   4.05 1.05 0.  ]
 [6.   3.04 4.05 1.06 0.  ]
 [6.07 3.01 4.07 1.05 0.  ]
 [6.03 2.03 4.04 1.03 0.  ]
 [5.06 3.   4.01 1.03 0.  ]
 [5.05 2.05 4.   1.03 0.  ]
 [5.05 2.06 4.04 1.02 0.  ]
 [6.01 3.   4.06 1.04 0.  ]
 [5.08 2.06 4.   1.02 0.  ]
 [5.   2.03 3.03 1.   0.  ]
 [5.06 2.07 4.02 1.03 0.  ]
 [5.07 3.   4.02 1.02 0.  ]
 [5.07 2.09 4.02 1.03 0.  ]
 [6.02 2.09 4.03 1.03 0.  ]
 [5.01 2.05 3.   1.01 0.  ]
 [5.07 2.08 4.01 1.03 0.  ]
 [6.03 3.03 6.   2.05 1.  ]
 [5.08 2.07 5.01 1.09 1.  ]
 [7.01 3.   5.09 2.01 1.  ]
 [6.03 2.09 5.06 1.08 1.  ]
 [6.05 3.   5.08 2.02 1.  ]
 [7.06 3.   6.06 2.01 1.  ]
 [4.09 2.05 4.05 1.07 1.  ]
 [7.03 2.09 6.03 1.08 1.  ]
 [6.07 2.05 5.08 1.08 1.  ]
 [7.02 3.06 6.01 2.05 1.  ]
 [6.05 3.02 5.01 2.   1.  ]
 [6.04 2.07 5.03 1.09 1.  ]
 [6.08 3.   5.05 2.01 1.  ]
 [5.07 2.05 5.   2.   1.  ]
 [5.08 2.08 5.01 2.04 1.  ]
 [6.04 3.02 5.03 2.03 1.  ]
 [6.05 3.   5.05 1.08 1.  ]
 [7.07 3.08 6.07 2.02 1.  ]
 [7.07 2.06 6.09 2.03 1.  ]
 [6.   2.02 5.   1.05 1.  ]
 [6.09 3.02 5.07 2.03 1.  ]
 [5.06 2.08 4.09 2.   1.  ]
 [7.07 2.08 6.07 2.   1.  ]
 [6.03 2.07 4.09 1.08 1.  ]
 [6.07 3.03 5.07 2.01 1.  ]
 [7.02 3.02 6.   1.08 1.  ]
 [6.02 2.08 4.08 1.08 1.  ]
 [6.01 3.   4.09 1.08 1.  ]
 [6.04 2.08 5.06 2.01 1.  ]
 [7.02 3.   5.08 1.06 1.  ]
 [7.04 2.08 6.01 1.09 1.  ]
 [7.09 3.08 6.04 2.   1.  ]
 [6.04 2.08 5.06 2.02 1.  ]
 [6.03 2.08 5.01 1.05 1.  ]
 [6.01 2.06 5.06 1.04 1.  ]
 [7.07 3.   6.01 2.03 1.  ]
 [6.03 3.04 5.06 2.04 1.  ]
 [6.04 3.01 5.05 1.08 1.  ]
 [6.   3.   4.08 1.08 1.  ]
 [6.09 3.01 5.04 2.01 1.  ]
 [6.07 3.01 5.06 2.04 1.  ]
 [6.09 3.01 5.01 2.03 1.  ]
 [5.08 2.07 5.01 1.09 1.  ]
 [6.08 3.02 5.09 2.03 1.  ]
 [6.07 3.03 5.07 2.05 1.  ]
 [6.07 3.   5.02 2.03 1.  ]
 [6.03 2.05 5.   1.09 1.  ]
 [6.05 3.   5.02 2.   1.  ]
 [6.02 3.04 5.04 2.03 1.  ]
 [5.09 3.   5.01 1.08 1.  ]]

#Membagi Dataset => 80 baris data untuk training dan 20 baris data untuk testing
dataTraining = np.concatenate((irisDataset[0:40, :], irisDataset[50:90, :]), 
                              axis=0)
dataTesting = np.concatenate((irisDataset[40:50, :], irisDataset[90:100, :]), 
                             axis=0)
     

print(dataTesting)
len(dataTesting)
     
[[5.05 2.06 4.04 1.02 0.  ]
 [6.01 3.   4.06 1.04 0.  ]
 [5.08 2.06 4.   1.02 0.  ]
 [5.   2.03 3.03 1.   0.  ]
 [5.06 2.07 4.02 1.03 0.  ]
 [5.07 3.   4.02 1.02 0.  ]
 [5.07 2.09 4.02 1.03 0.  ]
 [6.02 2.09 4.03 1.03 0.  ]
 [5.01 2.05 3.   1.01 0.  ]
 [5.07 2.08 4.01 1.03 0.  ]
 [6.07 3.01 5.06 2.04 1.  ]
 [6.09 3.01 5.01 2.03 1.  ]
 [5.08 2.07 5.01 1.09 1.  ]
 [6.08 3.02 5.09 2.03 1.  ]
 [6.07 3.03 5.07 2.05 1.  ]
 [6.07 3.   5.02 2.03 1.  ]
 [6.03 2.05 5.   1.09 1.  ]
 [6.05 3.   5.02 2.   1.  ]
 [6.02 3.04 5.04 2.03 1.  ]
 [5.09 3.   5.01 1.08 1.  ]]
20

#Memecah Dataset ke Input dan Label
inputTraining = dataTraining[:, 0:4]
inputTesting = dataTesting[:, 0:4]
labelTraining = dataTraining[:, 4]
labelTesting = dataTesting[:, 4]
     

#Mendefinisikan Decision Tree Classifier
model = tree.DecisionTreeClassifier()
     

#Mentraining Model
model = model.fit(inputTraining, labelTraining)
     

#Memprediksi Input Data Testing
hasilPrediksi = model.predict(inputTesting)
print("Label Sebenarnya : ", labelTesting)
print("Hasil Prediksi : ", hasilPrediksi)
     
Label Sebenarnya :  [0. 0. 0. 0. 0. 0. 0. 0. 0. 0. 1. 1. 1. 1. 1. 1. 1. 1. 1. 1.]
Hasil Prediksi :  [0. 0. 0. 0. 0. 0. 0. 0. 0. 0. 1. 1. 1. 1. 1. 1. 1. 1. 1. 1.]

#Menghitung Akurasi
prediksiBenar = (hasilPrediksi == labelTesting).sum()
prediksiSalah = (hasilPrediksi != labelTesting).sum()
print("Prediksi Benar :", prediksiBenar, "data")
print("Prediksi Salah :", prediksiSalah, "data")
print("Akurasi :", prediksiBenar/(prediksiBenar+prediksiSalah) * 100, "%")
     
Prediksi Benar : 20 data
Prediksi Salah : 0 data
Akurasi : 100.0 %
